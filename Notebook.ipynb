{
 "cells": [
  {
   "cell_type": "markdown",
   "metadata": {
    "colab_type": "text",
    "id": "-hn2vSOSdf3G"
   },
   "source": [
    "### Training with train/validation split"
   ]
  },
  {
   "cell_type": "code",
   "execution_count": null,
   "metadata": {
    "colab": {
     "base_uri": "https://localhost:8080/",
     "height": 1000
    },
    "colab_type": "code",
    "id": "lO7MbWVfo-zC",
    "outputId": "461fb659-9407-4f81-cbe9-3d86c9036bfb",
    "scrolled": true
   },
   "outputs": [],
   "source": [
    "%load_ext autoreload\n",
    "%autoreload 2\n",
    "%matplotlib inline\n",
    "import numpy as np\n",
    "from keras.models import load_model\n",
    "from keras.optimizers import SGD, Adam\n",
    "from keras_contrib.losses import DSSIMObjective\n",
    "from dataset import ProbaVDataset\n",
    "from model import create_model, BatchNorm, PSNR\n",
    "from training import lr_finder, train, predict, predict_on_test\n",
    "\n",
    "dataset = ProbaVDataset(batch_size=8, validation_split=0.2, upsample_input=True)\n",
    "model = create_model(input_shape=(384, 384, 1))\n",
    "model.summary()\n",
    "custom_objects = {'PSNR': PSNR, 'BatchNorm':BatchNorm, 'DSSIMObjective':DSSIMObjective()}"
   ]
  },
  {
   "cell_type": "markdown",
   "metadata": {
    "colab_type": "text",
    "id": "2j_i1kDlmXtU"
   },
   "source": [
    "First we find the optimal maximum learning rate with lr_finder. It should be just before the loss starts to explode:"
   ]
  },
  {
   "cell_type": "code",
   "execution_count": null,
   "metadata": {
    "colab": {
     "base_uri": "https://localhost:8080/",
     "height": 392
    },
    "colab_type": "code",
    "id": "WpJgUYVoIW_-",
    "outputId": "9b6ba179-7348-431f-d6df-53320ad5175e"
   },
   "outputs": [],
   "source": [
    "hyperparams = {\n",
    "    'optimizer' : Adam(),\n",
    "    'loss_fn' : DSSIMObjective(),\n",
    "    'start_lr' : 1e-6,\n",
    "    'end_lr' : 1e2,\n",
    "    'max_loss' : 1.0 \n",
    "}\n",
    "\n",
    "lr_finder(model, dataset, hyperparams, custom_objects)"
   ]
  },
  {
   "cell_type": "markdown",
   "metadata": {
    "colab_type": "text",
    "id": "iJu9Gxnxx2Qj"
   },
   "source": [
    "Now we train the network."
   ]
  },
  {
   "cell_type": "code",
   "execution_count": null,
   "metadata": {
    "colab": {
     "base_uri": "https://localhost:8080/",
     "height": 1000
    },
    "colab_type": "code",
    "id": "O_Yz1L7xIXAD",
    "outputId": "7e40ae3f-d406-4b30-caf9-429509ebcb5c",
    "scrolled": false
   },
   "outputs": [],
   "source": [
    "hyperparams = {\n",
    "        'optimizer' : Adam(),\n",
    "        'loss_fn' : DSSIMObjective(),\n",
    "        'num_epochs' : 20,\n",
    "        'max_lr' : 3e-3,\n",
    "        'div_factor' : 25.0,\n",
    "        'max_momentum' : 0.90,\n",
    "        'num_cycles' : 1 \n",
    "      }\n",
    "\n",
    "model = train('clr', model, dataset, hyperparams)"
   ]
  },
  {
   "cell_type": "markdown",
   "metadata": {
    "colab_type": "text",
    "id": "4QO1GOV1x9Zj"
   },
   "source": [
    "Let's see how well it performs against the validation set."
   ]
  },
  {
   "cell_type": "code",
   "execution_count": null,
   "metadata": {
    "colab": {
     "base_uri": "https://localhost:8080/",
     "height": 1000
    },
    "colab_type": "code",
    "id": "9Zoy54SuIXAH",
    "outputId": "c02a8097-1de1-44cb-ba37-9ca927176249"
   },
   "outputs": [],
   "source": [
    "sr_maps = predict(model, dataset.validation_data, batch_size=dataset.batch_size, display_n=20)"
   ]
  },
  {
   "cell_type": "code",
   "execution_count": null,
   "metadata": {
    "colab": {
     "base_uri": "https://localhost:8080/",
     "height": 34
    },
    "colab_type": "code",
    "id": "6WN6xnkZIXAN",
    "outputId": "a8213fe6-6362-4e8a-c2d4-3c1a9b4c3da3"
   },
   "outputs": [],
   "source": [
    "sr_maps = np.clip(sr_maps.squeeze(), 0.0, 1.0)\n",
    "highres_maps = dataset.validation_data[1].squeeze()\n",
    "status_maps = dataset.validation_sms\n",
    "scene_ids = dataset.validation_scene_ids\n",
    "print('Score on validation set:', dataset.score_images(sr_maps, highres_maps, status_maps, scene_ids))"
   ]
  },
  {
   "cell_type": "markdown",
   "metadata": {
    "colab_type": "text",
    "id": "JXLtrM7ltC4o"
   },
   "source": [
    "### Training with the whole training set"
   ]
  },
  {
   "cell_type": "markdown",
   "metadata": {
    "colab_type": "text",
    "id": "L1AU5xzOtIpn"
   },
   "source": [
    "Now let's train again, this time with the whole training set, without splitting it into training and validation sets."
   ]
  },
  {
   "cell_type": "code",
   "execution_count": null,
   "metadata": {
    "colab": {
     "base_uri": "https://localhost:8080/",
     "height": 1000
    },
    "colab_type": "code",
    "id": "Km9knj6oociN",
    "outputId": "b6926964-1c73-43db-886d-04496f3b9ba8"
   },
   "outputs": [],
   "source": [
    "import keras.backend as K\n",
    "K.clear_session()\n",
    "del dataset\n",
    "\n",
    "dataset = ProbaVDataset(batch_size=8, validation_split=0.0, upsample_input=True)\n",
    "model = create_model(input_shape=(384, 384, 1))\n",
    "hyperparams = {\n",
    "        'optimizer' : Adam(),\n",
    "        'loss_fn' : DSSIMObjective(),\n",
    "        'num_epochs' : 20,\n",
    "        'max_lr' : 3e-3,\n",
    "        'div_factor' : 25.0,\n",
    "        'max_momentum' : 0.90,\n",
    "        'num_cycles' : 1 \n",
    "      }\n",
    "\n",
    "model = train('clr', model, dataset, hyperparams)\n",
    "model.save('model.h5')"
   ]
  },
  {
   "cell_type": "markdown",
   "metadata": {
    "colab_type": "text",
    "id": "v1Q0ZgTNtThQ"
   },
   "source": [
    "### Inference on test set"
   ]
  },
  {
   "cell_type": "markdown",
   "metadata": {
    "colab_type": "text",
    "id": "6rl7BhVrtX65"
   },
   "source": [
    "Finally, perform inference on the test set and write the images to disk for submission"
   ]
  },
  {
   "cell_type": "code",
   "execution_count": null,
   "metadata": {
    "colab": {
     "base_uri": "https://localhost:8080/",
     "height": 1000
    },
    "colab_type": "code",
    "id": "89rM2lfAtVbL",
    "outputId": "ea0f8afa-d1f5-42d5-d750-a2f0991aea5d"
   },
   "outputs": [],
   "source": [
    "dataset.reset_for_testing()\n",
    "model = load_model('model.h5', custom_objects)\n",
    "predict_on_test(model, dataset, path='submission', display_n=20)"
   ]
  }
 ],
 "metadata": {
  "accelerator": "GPU",
  "colab": {
   "collapsed_sections": [],
   "name": "PROBA-V Notebook.ipynb",
   "provenance": [],
   "toc_visible": true,
   "version": "0.3.2"
  },
  "kernelspec": {
   "display_name": "Python 3",
   "language": "python",
   "name": "python3"
  },
  "language_info": {
   "codemirror_mode": {
    "name": "ipython",
    "version": 3
   },
   "file_extension": ".py",
   "mimetype": "text/x-python",
   "name": "python",
   "nbconvert_exporter": "python",
   "pygments_lexer": "ipython3",
   "version": "3.7.3"
  }
 },
 "nbformat": 4,
 "nbformat_minor": 1
}
